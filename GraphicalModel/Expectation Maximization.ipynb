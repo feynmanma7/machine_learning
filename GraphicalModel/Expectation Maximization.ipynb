{
 "cells": [
  {
   "cell_type": "markdown",
   "metadata": {},
   "source": [
    "<h1>Expectation Maximization</h1>\n",
    "\n",
    "# 0. Latent Random Variables Model\n",
    "\n",
    "We use multiple random variables to model replationships among high dimensional datasets.\n",
    "\n",
    "+ Independent assumption\n",
    "\n",
    "Such as logistic regression, to model the marginal distribution, \n",
    "\n",
    "> $p(y=1|X; W) = \\sigma(W^T X)$\n",
    "\n",
    "+ Conditional independent assumption\n",
    "\n",
    "Such as naive bayes classifier, to model the joint distribution, \n",
    "\n",
    "> $p(y, X) = p(y) \\prod_{i}p(X_i|y)$\n",
    "\n",
    "+ graphical models\n",
    "\n",
    "To model complex the relationships among random variables, directed or undirected graphical models are used.\n",
    "\n",
    "Model the obeserved random variables directly sometimes are <b>time-consuming</b> and <b>meaningless</b>.\n",
    "\n",
    "Models with latent random variables are introduced.\n",
    "\n",
    "## Single Gaussian Model without latent variables\n",
    "\n",
    "For dataset obeys only one gaussian distribution, the parameters $(\\mu, \\sigma^2)$ are easy to calculate using point estimate method.\n",
    "\n",
    "According to the strong large law of number, \n",
    "\n",
    "> $\\mu = \\mathbb{E}[X] = \\bar{X} = \\frac{1}{N}\\sum_{i=1}^N X_i$\n",
    "\n",
    "> $\\sigma^2 = \\mathbb{E}[(X - \\mu)^2] = \\mathbb{E}[X^2] - \\mathbb{E}^2[X]$\n",
    "\n",
    "> $= \\frac{1}{N} \\sum_{i=1}^N X_i^2 - \\mu^2$\n",
    "\n",
    "## K-Means\n",
    "\n",
    "For dataset contains hidden multiple clusters, the optimized objective  is, \n",
    "\n",
    "> $J = \\sum_{i=1}^N \\sum_{k=1}^K \\mathbb{I}\\left(k = \\arg\\min_k |X_i - C_k|\\right) || X_i - C_k ||^2$\n",
    "\n",
    "> $C_k = \\frac{ \\sum_{i=1}^N \\mathbb{I} (k = \\arg\\min_k |X_i - C_k|) X_i}\n",
    "{\\sum_{i=1}^N \\mathbb{I} (k = \\arg\\min_k |X_i - C_k|)}$ \n",
    "\n",
    "\n",
    "## Mixture Gaussian Model"
   ]
  },
  {
   "cell_type": "code",
   "execution_count": null,
   "metadata": {
    "collapsed": true
   },
   "outputs": [],
   "source": []
  }
 ],
 "metadata": {
  "kernelspec": {
   "display_name": "Python 3",
   "language": "python",
   "name": "python3"
  },
  "language_info": {
   "codemirror_mode": {
    "name": "ipython",
    "version": 3
   },
   "file_extension": ".py",
   "mimetype": "text/x-python",
   "name": "python",
   "nbconvert_exporter": "python",
   "pygments_lexer": "ipython3",
   "version": "3.6.2"
  }
 },
 "nbformat": 4,
 "nbformat_minor": 2
}
