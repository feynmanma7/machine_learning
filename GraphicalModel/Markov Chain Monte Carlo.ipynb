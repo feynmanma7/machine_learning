{
 "cells": [
  {
   "cell_type": "markdown",
   "metadata": {},
   "source": [
    "## <h1>Markov Chain Monte Carlo</h1>\n",
    "\n",
    "# 0. Rejection Sampling\n",
    "\n",
    "# 1. Importance Sampling\n",
    "\n",
    "# 2. Metropolis-Hastings Algorithm\n",
    "\n",
    "## 2.0 Detailed Balance\n",
    "\n",
    "For state $x$ and $x'$, the detailed balance is satisfied when, \n",
    "\n",
    "> $p(x)T(x'|x) = p(x')T(x|x')$\n",
    "\n",
    "Such that $p(x)$ is in the equilibrium position."
   ]
  },
  {
   "cell_type": "code",
   "execution_count": 19,
   "metadata": {},
   "outputs": [
    {
     "name": "stdout",
     "output_type": "stream",
     "text": [
      "[0.12 0.61 0.27]\n",
      "[0.162 0.289 0.549]\n",
      "[0.3294 0.4105 0.2601]\n",
      "[0.15606 0.47449 0.36945]\n",
      "[0.22167  0.351289 0.427041]\n",
      "[0.2562246 0.4276153 0.3161601]\n",
      "[0.18969606 0.42545017 0.38485377]\n",
      "[0.23091226 0.38618259 0.38290515]\n",
      "[0.22974309 0.42269258 0.34756433]\n",
      "[0.2085386  0.41103808 0.38042332]\n",
      "[0.22825399 0.40181173 0.36993427]\n",
      "[0.22196056 0.41640888 0.36163056]\n",
      "[0.21697834 0.40825368 0.37476799]\n",
      "[0.22486079 0.4077109  0.36742831]\n",
      "[0.22045698 0.41260321 0.36693981]\n",
      "[0.22016389 0.40849323 0.37134289]\n",
      "[0.22280573 0.40955036 0.36764391]\n",
      "[0.22058634 0.41081833 0.36859533]\n",
      "[0.2211572  0.40910631 0.3697365 ]\n",
      "[0.2218419  0.40996243 0.36819568]\n",
      "[0.22091741 0.41011641 0.36896618]\n",
      "[0.22137971 0.40951552 0.36910477]\n",
      "[0.22146286 0.40997317 0.36856397]\n",
      "[0.22113838 0.40988577 0.36897585]\n",
      "[0.22138551 0.4097173  0.36889719]\n",
      "[0.22133831 0.40991612 0.36874557]\n",
      "[0.22124734 0.40982815 0.36892451]\n",
      "[0.2213547  0.40979996 0.36884534]\n",
      "[0.2213072  0.40987283 0.36881996]\n",
      "[0.22129198 0.40982247 0.36888555]\n"
     ]
    }
   ],
   "source": [
    "# detailed balance\n",
    "\n",
    "import numpy as np \n",
    "\n",
    "T = np.array([[0, 1, 0], [0, 0.1, 0.9], [0.6, 0.4, 0]])\n",
    "\n",
    "# initialize state\n",
    "u = np.array([0.5, 0.3, 0.2])\n",
    "\n",
    "for _ in range(30):\n",
    "    u = np.dot(u, T)\n",
    "    print(u)"
   ]
  },
  {
   "cell_type": "markdown",
   "metadata": {},
   "source": [
    "## 2.1 Metropolis-Hastings Algorithm\n",
    "+ Initialize $x^{(0)}$\n",
    "\n",
    "+ For $i=0$ to $N-1$\n",
    "\n",
    "> Sample $u \\sim U(0, 1)$\n",
    "\n",
    "> Sample $x^{*} \\sim q(x^* | x^{(i)})$\n",
    "\n",
    "> If $u < A(x^{(i)}, x^*) = \\min(1, \\frac{p(x^*) q(x^{(i)}|x^*))}\n",
    "{p(x^{(i)})q(x^*|x^{(i)})})$\n",
    "\n",
    ">> $x^{(i+1)} = x^*$\n",
    "\n",
    "> else\n",
    "\n",
    ">> $x^{(i+1)} = x^{(i)}$\n",
    "\n",
    "## 2.2 Acceptance probability\n",
    "\n",
    "> $A(x, x') = \\min(1, \\frac{p(x') q(x|x')}{p(x)q(x'|x)})$"
   ]
  },
  {
   "cell_type": "markdown",
   "metadata": {},
   "source": [
    "Let $T(x'|x) = q(x'|x)A(x, x')$\n",
    "\n",
    "> $p(x)T(x'|x) = p(x)q(x'|x)A(x, x')$\n",
    "\n",
    "> $= p(x)q(x'|x) \\min(1, \\frac{p(x') q(x|x')}{p(x)q(x'|x)})$\n",
    "\n",
    "> $= \\min (p(x)q(x'|x), p(x') q(x|x'))$\n",
    "\n",
    "> $= p(x')q(x|x') \\min (\\frac{p(x)q(x'|x)}{p(x') q(x|x')}, 1)$\n",
    "\n",
    "> $= p(x')q(x|x') A(x', x)$\n",
    "\n",
    "> $= p(x')T(x|x')$\n",
    "\n",
    "$\\Rightarrow$\n",
    "\n",
    "> $p(x)T(x'|x) = p(x')T(x|x')$\n",
    "\n",
    "The detailed balance condition is satisfied."
   ]
  },
  {
   "cell_type": "code",
   "execution_count": 15,
   "metadata": {},
   "outputs": [],
   "source": [
    "# MCMC\n",
    "import numpy as np\n",
    "from matplotlib import pyplot as plt\n",
    "from scipy.stats import norm\n",
    "\n",
    "np.random.seed(20170430)\n",
    "\n",
    "\"\"\"\n",
    "# target distribution\n",
    "p(x) = 0.3 exp (-0.2 x**2) + 0.7 exp (-0.2(x-10)**2)\n",
    "\n",
    "# proposal distribution, gaussian\n",
    "q(x'|x) = norm(x, 100)\n",
    "\"\"\"\n",
    "\n",
    "x = np.arange(-10, 20, 0.01)\n",
    "\n",
    "def p(x):\n",
    "    return 0.3 * np.exp(-0.2 * x ** 2) + 0.7 * np.exp (-0.2 * (x-10)**2 )\n",
    "\n",
    "def q(x, loc, scale=100):\n",
    "    # return q(x|loc), which is norm(x|loc, scale)\n",
    "    return norm.pdf(x, loc=loc, scale=scale)\n",
    "\n",
    "def sample(n_iter):\n",
    "    # initialize \n",
    "    x0 = np.random.random()\n",
    "    \n",
    "    x = []\n",
    "    \n",
    "    for i in range(n_iter):\n",
    "        x.append(x0)\n",
    "        \n",
    "        # sample u\n",
    "        u = np.random.random()\n",
    "        \n",
    "        # sample x1\n",
    "        x1 = np.random.normal(x0, 100)\n",
    "        \n",
    "        p_x0 = p(x0)\n",
    "        p_x1 = p(x1)\n",
    "        \n",
    "        # transition probability, which is pdf here\n",
    "        q_x0 = q(x0, x1, 100)\n",
    "        q_x1 = q(x1, x0, 100)\n",
    "        \n",
    "        A = min(1, (p_x1 * q_x0) / (p_x0 * q_x1) )\n",
    "        # A = min(1, (p_x0 * q_x1) / (p_x1 * q_x0) )\n",
    "\n",
    "        if u < A:\n",
    "        #if (p_x0 * q_x1) / (p_x1 * q_x0) > 1.0:\n",
    "            x0 = x1\n",
    "            # x.append(x0)\n",
    "        else:\n",
    "            x0 = x0\n",
    "\n",
    "            \n",
    "    return x\n",
    "\n",
    "\n",
    "samples = sample(10000)"
   ]
  },
  {
   "cell_type": "code",
   "execution_count": 7,
   "metadata": {},
   "outputs": [
    {
     "data": {
      "image/png": "[encoded data removed]",
      "text/plain": [
       "<matplotlib.figure.Figure at 0x11d7f49b0>"
      ]
     },
     "metadata": {},
     "output_type": "display_data"
    }
   ],
   "source": [
    "y = p(x)\n",
    "plt.plot(x, y, 'b-', label='target')\n",
    "plt.title('target distribution')\n",
    "plt.show()"
   ]
  },
  {
   "cell_type": "code",
   "execution_count": 16,
   "metadata": {},
   "outputs": [
    {
     "data": {
      "image/png": "[encoded data removed]",
      "text/plain": [
       "<matplotlib.figure.Figure at 0x11dba2240>"
      ]
     },
     "metadata": {},
     "output_type": "display_data"
    }
   ],
   "source": [
    "plt.hist(samples, bins=100)\n",
    "plt.title('samples histgram')\n",
    "plt.show()"
   ]
  },
  {
   "cell_type": "code",
   "execution_count": 12,
   "metadata": {},
   "outputs": [
    {
     "data": {
      "image/png": "[encoded data removed]",
      "text/plain": [
       "<matplotlib.figure.Figure at 0x11d7c5898>"
      ]
     },
     "metadata": {},
     "output_type": "display_data"
    }
   ],
   "source": [
    "a = np.array(sorted(samples))\n",
    "b = p(a)\n",
    "\n",
    "plt.plot(a, b, 'r*')\n",
    "plt.plot(x, y, 'b-')\n",
    "plt.title('samples and target distribution')\n",
    "plt.show()"
   ]
  },
  {
   "cell_type": "markdown",
   "metadata": {},
   "source": [
    "# 3. Gibbs sampling\n",
    "\n",
    "To sample from $d-$demensional distribution, let the proposal distribution be, \n",
    "\n",
    "> $q(x'|x) = p(x'_j | x_{-j})$, if $x_{-j} = x'_{-j}$, otherwise 0.\n",
    "\n",
    "where, \n",
    "\n",
    "> $p(x_j | x_{-j}) = p(x_j|x_1, x_2, ..., x_{j-1}, x_{j+1}, ..., x_{d-1}, x_d)$"
   ]
  },
  {
   "cell_type": "markdown",
   "metadata": {},
   "source": [
    "## Acceptance Probability\n",
    "\n",
    "> $A(x, x') = \\min \\left\\{1, \\frac{p(x')q(x|x')}{p(x)q(x'|x)} \\right\\}$\n",
    "\n",
    "> $= \\min\\left\\{1, \\frac{p(x')p(x_j|x'_{-j})}{p(x)p(x'_j|x_{-j})}\\right\\}$\n",
    "\n",
    "> $= \\min\\left\\{1, \\frac{p(x_{-j})}{p(x'_{-j})}\\right\\}$\n",
    "\n",
    "> $= 1$\n",
    "\n",
    "The proposal move is always accepted.\n",
    "\n",
    "## Detailed Balance Condition\n",
    "\n",
    "> $p(x)T(x'|x) = p(x)q(x'|x)A(x, x')$\n",
    "\n",
    "> $= p(x)p(x'_j|x_{-j})$\n",
    "\n",
    "> $= \\frac{p(x)p(x')}{p(x_{-j})}$\n",
    "\n",
    "> $= \\frac{p(x)p(x')}{p(x'_{-j})}$\n",
    "\n",
    "> $= p(x')p(x_j|x'_{-j})$\n",
    "\n",
    "> $= p(x')T(x|x')$"
   ]
  },
  {
   "cell_type": "code",
   "execution_count": null,
   "metadata": {
    "collapsed": true
   },
   "outputs": [],
   "source": []
  }
 ],
 "metadata": {
  "kernelspec": {
   "display_name": "Python 3",
   "language": "python",
   "name": "python3"
  },
  "language_info": {
   "codemirror_mode": {
    "name": "ipython",
    "version": 3
   },
   "file_extension": ".py",
   "mimetype": "text/x-python",
   "name": "python",
   "nbconvert_exporter": "python",
   "pygments_lexer": "ipython3",
   "version": "3.6.2"
  }
 },
 "nbformat": 4,
 "nbformat_minor": 2
}
