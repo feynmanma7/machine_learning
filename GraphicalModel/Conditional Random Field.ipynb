{
 "cells": [
  {
   "cell_type": "markdown",
   "metadata": {},
   "source": [
    "<h1>Conditional Random Field</h1>\n",
    "\n",
    "Preference:\n",
    "\n",
    "[1] Conditional Random Fields- Probabilistic Models for Segmenting and Labeling Sequence Data, ICML 2001.\n",
    "\n",
    "[2] A conditional random field word segmenter for Sighan Bakeoff 2005.\n",
    "\n",
    "[3] Chinese Word Segmentation with Conditional Random Fields and Integrated Domain Knowledge.\n",
    "\n",
    "# 0. Example: Sequence Tagging Problem\n",
    "\n",
    "The probability assigned to a label sequence for a particular sequence of characters by a CRF is \n",
    "\n",
    "> $P_{\\lambda}(Y|X) = \\frac{1}{Z(X)}exp\\left( \n",
    "\\sum_{c\\in\\mathcal{C}}\\sum_{k} \\lambda_k f_k(Y_c, X, c)\n",
    "\\right)$\n",
    "\n",
    "# 1. Motivation: Undirected Graphical Model\n",
    "\n",
    "# 2. Inference and Learning\n",
    "\n",
    "# 3. Application (Feature Template)\n"
   ]
  },
  {
   "cell_type": "code",
   "execution_count": null,
   "metadata": {
    "collapsed": true
   },
   "outputs": [],
   "source": []
  }
 ],
 "metadata": {
  "kernelspec": {
   "display_name": "Python 3",
   "language": "python",
   "name": "python3"
  },
  "language_info": {
   "codemirror_mode": {
    "name": "ipython",
    "version": 3
   },
   "file_extension": ".py",
   "mimetype": "text/x-python",
   "name": "python",
   "nbconvert_exporter": "python",
   "pygments_lexer": "ipython3",
   "version": "3.6.2"
  }
 },
 "nbformat": 4,
 "nbformat_minor": 2
}
