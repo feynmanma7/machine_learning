{
 "cells": [
  {
   "cell_type": "markdown",
   "metadata": {},
   "source": [
    "<h1>Loss Functions</h1>\n",
    "\n",
    "# 0. Logistic Regression\n",
    "\n",
    "## Motivation\n",
    "Assume the logits is a linear transformation of input,\n",
    "\n",
    "> $\\log \\frac{p(y=1)}{1-p(y=1)} = w_0 + w_1 x_1 + ... + w_n x_n = W^{T}X$\n",
    "\n",
    "$\\Rightarrow$\n",
    "\n",
    "> $p(y=1) = \\frac{1}{1 + exp\\{-W^T X\\}}$\n",
    "\n",
    "## Loss Function\n",
    "\n",
    "### Log-likelihood\n",
    "\n",
    "Assume data are independently identical distributed, likelihood function is, \n",
    "\n",
    "> $L(W) = \\prod_{i=1}^{M} p(Y_i|W)$\n",
    "\n",
    "> $p(Y_i|W) = p(Y_i=1|W)^{\\mathbb{1}(Y_i=1)} (1 - p(Y_i=1|W))^{1 - \\mathbb{1}(Y_i=1)}$\n",
    "\n",
    "If $Y_i = 1$, $\\mathbb{1}(Y_i=1) = 1$, $Y_i = \\mathbb{1}(Y_i=1)$, \n",
    "\n",
    "> $p(Y_i|W) = p(Y_i=1|W)^{Y_i} (1 - p(Y_i=1|W))^{1 - Y_i}$\n",
    "\n",
    "Log-likelihood function is,\n",
    "\n",
    "> $l(W) = \\log L(W) = \\sum_{i=1}^{M} Y_i \\log p(Y_i=1|W) + (1 - Y_i) \\log (1 - p(Y_i=1|W))$\n",
    "\n",
    "### Loss Fuction\n",
    "\n",
    "Use the average negative log-likelihood as loss function, \n",
    "\n",
    "> $J(W) = - \\frac{1}{M} l(W) = - \\frac{1}{M} \\sum_{i=1}^{M} Y_i \\log p(Y_i=1|W) + (1 - Y_i) \\log (1 - p(Y_i=1|W))$\n",
    "\n",
    "## Optimization\n",
    "\n",
    "Compute the gradient of $J(W)$ with respect to $w_j$, \n",
    "\n",
    "> $\\frac{\\partial{J(W)}}{\\partial{w_j}} = \n",
    "- \\frac{1}{M} \\sum_{i=1}^M Y_i \\frac{1}{p}p' + (1 - Y_i) \\frac{1}{1-p}(-p')$\n",
    "\n",
    "> $p' = p(1-p)x_j$\n",
    "\n",
    "$\\Rightarrow$\n",
    "\n",
    "> $\\frac{\\partial{J(W)}}{\\partial{w_j}} = - \\frac{1}{M} \\sum_{i=1}^M\n",
    "(Y_i - p_i)x^{(i)}_j$\n"
   ]
  },
  {
   "cell_type": "markdown",
   "metadata": {
    "collapsed": true
   },
   "source": [
    "# 1. Support Vector Machines\n",
    "\n",
    "# "
   ]
  },
  {
   "cell_type": "code",
   "execution_count": null,
   "metadata": {
    "collapsed": true
   },
   "outputs": [],
   "source": []
  }
 ],
 "metadata": {
  "kernelspec": {
   "display_name": "Python 3",
   "language": "python",
   "name": "python3"
  },
  "language_info": {
   "codemirror_mode": {
    "name": "ipython",
    "version": 3
   },
   "file_extension": ".py",
   "mimetype": "text/x-python",
   "name": "python",
   "nbconvert_exporter": "python",
   "pygments_lexer": "ipython3",
   "version": "3.6.2"
  }
 },
 "nbformat": 4,
 "nbformat_minor": 2
}
