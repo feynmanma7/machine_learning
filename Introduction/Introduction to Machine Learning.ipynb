{
 "cells": [
  {
   "cell_type": "markdown",
   "metadata": {},
   "source": [
    "<h1>Introduction to Machine Learning</h1>\n",
    "\n",
    "# 0. Probability Theory\n",
    "\n",
    "## 0.0 Sum Rule & Product Rule\n",
    "\n",
    "+ Sum Rule\n",
    "\n",
    "> $p(X) = \\sum_{Y} p(X, Y)$\n",
    "\n",
    "+ Product Rule\n",
    "\n",
    "> $p(X, Y) = p(X|Y) p(Y)$\n",
    "\n",
    "+ Bayes' Theorem\n",
    "\n",
    "> $p(X|Y) = \\frac{p(Y|X)p(X)}{p(Y)}$\n",
    "\n",
    "> $p(X) = \\sum_{Y}p(X|Y)p(Y)$\n",
    "\n",
    "\n",
    "## 0.1 Expectation\n",
    "\n",
    "The weighted average value of a function $f(x)$ under the probability distribution of $p(x)$ is <b>Expectation</b>.\n",
    "\n",
    "> $\\mathbb{E}[x] = \\sum_x f(x)p(x)$\n",
    "\n",
    "If $\\{x_1, x_2, ..., x_N\\}$ are drawn from the probability $p(x)$, then \n",
    "\n",
    "> $\\mathbb{E}[x] \\simeq \\frac{1}{2}\\sum_{n=1}^N f(x_n)$\n",
    "\n",
    "+ Conditional Expectation\n",
    "\n",
    "> $\\mathbb{E}_x[f|y] = \\sum_{x} f(x)p(x|y)$\n",
    "\n",
    "## 0.2 Variance\n",
    "\n",
    "The variability of the function $f(x)$ around the mean $\\mathbb{E}[f]$ is <b>Variance</b>.\n",
    "\n",
    "> $var[f] = \\mathbb{E}[(f(x) - \\mathbb{E}[f(x)])^2]$\n",
    "\n",
    "$\\Longrightarrow$\n",
    "\n",
    "> $var[f] = \\mathbb{E}[f^2] - (\\mathbb{E}[f])^2$\n",
    "\n",
    "## 0.3 Covariance\n",
    "\n",
    "For two random variables $x$ and $y$, the extent of them vary together is <b>Covariance</b>.\n",
    "\n",
    "> $cov[x, y] = \\mathbb{E}_{x, y}[(x - \\mathbb{E}[x])(y - \\mathbb{E}[y])]$\n",
    "\n",
    "> $ = \\mathbb{E}_{x, y}[xy] - \\mathbb{E}[x]\\mathbb{E}[y]$\n",
    "\n",
    "If $x$ and $y$ are vectors, the covariance of them is a <b>matrix</b>.\n",
    "\n",
    "> $cov[\\vec{x}, \\vec{y}] = \\mathbb{E}_{\\vec{x}, \\vec{y}}[\n",
    "(\\vec{x} - \\mathbb{E}[\\vec{x}])(\\vec{y} - \\mathbb{E}[\\vec{y}])^T]$\n",
    "\n",
    "> $= \\mathbb{E_{\\vec{x}, \\vec{y}}}[\n",
    "(\\vec{x} - \\mathbb{E}[\\vec{x}])(\\vec{y}^T - \\mathbb{E}[\\vec{y}]^T)\n",
    "]$\n",
    "\n",
    "> $= \\mathbb{E}[\\vec{x}\\vec{y}^T] - \\mathbb{E}[\\vec{x}]\\mathbb{E}[\\vec{y}^T]$\n",
    "\n",
    "## 0.4 Unbiased Estimator\n",
    "\n",
    "Assume $\\{X_1, X_2, ..., X_N\\}$ are $N$ random variables with mean $\\mu$ and variance $\\sigma^2$, the sampled mean $\\overline{X}$ and sampled variance $S^2$ is defined as, \n",
    "\n",
    "> $\\overline{X} = \\frac{1}{N}\\sum_{i=1}^N X_i$\n",
    "\n",
    "> $S^2 = \\frac{1}{N} \\sum_{i=1}^N (\\overline{X} - X_i)^2$\n",
    "\n",
    "Compute the expectation of sampled mean and variance, \n",
    "\n",
    "> $\\mathbb{E}[\\overline{X}] = \\mathbb{E}[\\frac{1}{N}\\sum_{i=1}^N X_i] \n",
    "= \\frac{1}{N} \\sum_{i=1}^N \\mathbb{E}[X_i] = \\frac{1}{N} \\sum_{i=1}^N \\mu = \\mu$\n",
    "\n",
    "> $\\mathbb{E}[S^2] = \\mathbb{E}[\\frac{1}{N} \\sum_{i=1}^N (\\overline{X} - X_i)^2]$\n",
    "\n",
    "> $= \\mathbb{E}[\\frac{1}{N} \\sum_{i=1}^N \\left( \n",
    "(\\overline{X} - \\mu) - (X_i - \\mu)\n",
    "\\right)^2]$\n",
    "\n",
    "> $= \\mathbb{E}[\\frac{1}{N} \\sum_{i=1}^N \\left(\n",
    "(\\overline{X} - \\mu)^2 + (X_i - \\mu)^2 - 2(\\overline{X} - \\mu)(X_i - \\mu)\n",
    "\\right)^2]$\n",
    "\n",
    "> $= \\mathbb{E}[\n",
    "\\frac{1}{N} \\sum_{i=1}^N (\\overline{X} - \\mu)^2 + \n",
    "\\frac{1}{N} \\sum_{i=1}^N (X_i - \\mu)^2 - \n",
    "2 \\frac{1}{N} \\sum_{i=1}^N (\\overline{X} - \\mu)(X_i - \\mu)\n",
    "]$"
   ]
  },
  {
   "cell_type": "markdown",
   "metadata": {},
   "source": [
    "> $\\overline{X} - \\mu = \\frac{1}{N} \\sum_{i=1}^N X_i - \\frac{1}{N}\\sum_{i=1}^N\\mu$\n",
    "\n",
    "> $= \\frac{1}{N}\\sum_{i=1}^N (X_i - \\mu)$"
   ]
  },
  {
   "cell_type": "markdown",
   "metadata": {},
   "source": [
    "> $\\mathbb{E}[S^2] = \\mathbb{E}[\n",
    "(\\overline{X} - \\mu)^2 + \n",
    "\\frac{1}{N} \\sum_{i=1}^N (X_i - \\mu)^2 - \n",
    "2 (\\overline{X} - \\mu) \\left(\\frac{1}{N} \\sum_{i=1}^N (X_i - \\mu)\\right)\n",
    "]$\n",
    "\n",
    "> $= \\mathbb{E}[\n",
    "(\\overline{X} - \\mu)^2 + \n",
    "\\frac{1}{N} \\sum_{i=1}^N (X_i - \\mu)^2 - \n",
    "2 (\\overline{X} - \\mu)^2\n",
    "]$\n",
    "\n",
    "> $= \\mathbb{E}[\\frac{1}{N} \\sum_{i=1}^N (X_i - \\mu)^2 - \n",
    "(\\overline{X} - \\mu)^2]$\n",
    "\n",
    "> $= \\mathbb{E}[\\frac{1}{N} \\sum_{i=1}^N (X_i - \\mu)^2] -\n",
    "\\mathbb{E}[(\\overline{X} - \\mu)^2]$\n",
    "\n",
    "> $= \\sigma^2 - \\mathbb{E}[(\\overline{X} - \\mu)^2]$"
   ]
  },
  {
   "cell_type": "markdown",
   "metadata": {},
   "source": [
    "> $\\mathbb{E}[(\\overline{X} - \\mu)^2] = \n",
    "Var[(\\overline{X} - \\mu)] + \\mathbb{E}^2[\\overline{X} - \\mu)]$\n",
    "\n",
    "> $Var[(\\overline{X} - \\mu)] = Var[\\overline{X}]$\n",
    "\n",
    "> $= Var[\\frac{1}{N}\\sum_{i=1}^N X_i]$\n",
    "\n",
    "> $= \\frac{1}{N^2} \\sum_{i=1}^N Var[X_i]$\n",
    "\n",
    "> $= \\frac{1}{N^2} \\sum_{i=1}^N \\sigma^2$\n",
    "\n",
    "> $= \\frac{1}{N} \\sigma^2$\n",
    "\n",
    "> $\\mathbb{E}[\\overline{X} - \\mu] = \\mathbb{E}[\\overline{X}] - \\mu = \\mu - \\mu = 0$\n"
   ]
  },
  {
   "cell_type": "markdown",
   "metadata": {},
   "source": [
    "> $\\mathbb{E}[S^2] = \\sigma^2 - \\frac{1}{N}\\sigma^2 = \\frac{N-1}{N} \\sigma^2$\n",
    "\n",
    "$\\Longrightarrow$\n",
    "\n",
    "> $\\mu = \\mathbb{E}[\\overline{X}]$\n",
    "\n",
    "> $\\sigma^2 = \\frac{N}{N-1}\\mathbb{E}[S^2]$"
   ]
  },
  {
   "cell_type": "markdown",
   "metadata": {
    "collapsed": true
   },
   "source": [
    "# 1. Decision Theory\n",
    "\n",
    "# 2. Information Theory"
   ]
  },
  {
   "cell_type": "code",
   "execution_count": null,
   "metadata": {
    "collapsed": true
   },
   "outputs": [],
   "source": []
  }
 ],
 "metadata": {
  "kernelspec": {
   "display_name": "Python 3",
   "language": "python",
   "name": "python3"
  },
  "language_info": {
   "codemirror_mode": {
    "name": "ipython",
    "version": 3
   },
   "file_extension": ".py",
   "mimetype": "text/x-python",
   "name": "python",
   "nbconvert_exporter": "python",
   "pygments_lexer": "ipython3",
   "version": "3.6.3"
  }
 },
 "nbformat": 4,
 "nbformat_minor": 2
}
