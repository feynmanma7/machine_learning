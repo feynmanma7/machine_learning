{
 "cells": [
  {
   "cell_type": "markdown",
   "metadata": {},
   "source": [
    "<h1>Introduction to Machine Learning</h1>\n",
    "\n",
    "# 0. Probability Theory\n",
    "\n",
    "## 0.0 Sum Rule & Product Rule\n",
    "\n",
    "+ Sum Rule\n",
    "\n",
    "> $p(X) = \\sum_{Y} p(X, Y)$\n",
    "\n",
    "+ Product Rule\n",
    "\n",
    "> $p(X, Y) = p(X|Y) p(Y)$\n",
    "\n",
    "+ Bayes' Theorem\n",
    "\n",
    "> $p(X|Y) = \\frac{p(Y|X)p(X)}{p(Y)}$\n",
    "\n",
    "> $p(X) = \\sum_{Y}p(X|Y)p(Y)$\n",
    "\n",
    "\n",
    "## 0.1 Expectation\n",
    "\n",
    "The weighted average value of a function $f(x)$ under the probability distribution of $p(x)$ is <b>Expectation</b>.\n",
    "\n",
    "> $\\mathbb{E}[x] = \\sum_x f(x)p(x)$\n",
    "\n",
    "If $\\{x_1, x_2, ..., x_N\\}$ are drawn from the probability $p(x)$, then \n",
    "\n",
    "> $\\mathbb{E}[x] \\simeq \\frac{1}{2}\\sum_{n=1}^N f(x_n)$\n",
    "\n",
    "+ Conditional Expectation\n",
    "\n",
    "> $\\mathbb{E}_x[f|y] = \\sum_{x} f(x)p(x|y)$\n",
    "\n",
    "## 0.2 Variance\n",
    "\n",
    "The variability of the function $f(x)$ around the mean $\\mathbb{E}[f]$ is <b>Variance</b>.\n",
    "\n",
    "> $var[f] = \\mathbb{E}[(f(x) - \\mathbb{E}[f(x)])^2]$\n",
    "\n",
    "$\\Longrightarrow$\n",
    "\n",
    "> $var[f] = \\mathbb{E}[f^2] - (\\mathbb{E}[f])^2$\n",
    "\n",
    "## 0.3 Covariance\n",
    "\n",
    "For two random variables $x$ and $y$, the extent of them vary together is <b>Covariance</b>.\n",
    "\n",
    "> $cov[x, y] = \\mathbb{E}_{x, y}[(x - \\mathbb{E}[x])(y - \\mathbb{E}[y])]$\n",
    "\n",
    "> $ = \\mathbb{E}_{x, y}[xy] - \\mathbb{E}[x]\\mathbb{E}[y]$\n",
    "\n",
    "If $x$ and $y$ are vectors, the covariance of them is a <b>matrix</b>.\n",
    "\n",
    "> $cov[\\vec{x}, \\vec{y}] = \\mathbb{E}_{\\vec{x}, \\vec{y}}[\n",
    "(\\vec{x} - \\mathbb{E}[\\vec{x}])(\\vec{y} - \\mathbb{E}[\\vec{y}])^T]$\n",
    "\n",
    "> $= \\mathbb{E_{\\vec{x}, \\vec{y}}}[\n",
    "(\\vec{x} - \\mathbb{E}[\\vec{x}])(\\vec{y}^T - \\mathbb{E}[\\vec{y}]^T)\n",
    "]$\n",
    "\n",
    "> $= \\mathbb{E}[\\vec{x}\\vec{y}^T] - \\mathbb{E}[\\vec{x}]\\mathbb{E}[\\vec{y}^T]$\n",
    "\n",
    "# 1. Decision Theory\n",
    "\n",
    "# 2. Information Theory"
   ]
  },
  {
   "cell_type": "code",
   "execution_count": null,
   "metadata": {
    "collapsed": true
   },
   "outputs": [],
   "source": []
  }
 ],
 "metadata": {
  "kernelspec": {
   "display_name": "Python 3",
   "language": "python",
   "name": "python3"
  },
  "language_info": {
   "codemirror_mode": {
    "name": "ipython",
    "version": 3
   },
   "file_extension": ".py",
   "mimetype": "text/x-python",
   "name": "python",
   "nbconvert_exporter": "python",
   "pygments_lexer": "ipython3",
   "version": "3.6.3"
  }
 },
 "nbformat": 4,
 "nbformat_minor": 2
}
