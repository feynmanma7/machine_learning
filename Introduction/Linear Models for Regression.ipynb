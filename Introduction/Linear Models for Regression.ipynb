{
 "cells": [
  {
   "cell_type": "markdown",
   "metadata": {},
   "source": [
    "<h1>Linear Models for Regression</h1>\n",
    "\n",
    "Reference:\n",
    "\n",
    "[1] PRML, Chapter 3.\n",
    "\n",
    "# 0. Linear Basis Function Models\n",
    "\n",
    "## Linear Regression\n",
    "> $y(x, w) = w_0 + w_1 \\phi(x_1) + ... w_M \\phi(x_M)$\n",
    "\n",
    "> $= \\sum_{i=1}^M w_i \\phi(x_i) = W^{T}\\phi(x)$\n",
    "\n",
    "## Maximum Likelihood\n",
    "\n",
    "Assume the target variable $t$ is the summation of <b>deteministic</b> function $y(x, w)$ and gaussian noise $\\epsilon \\sim \\mathcal{N}(0, \\beta^{-1})$.\n",
    "\n",
    "> $t = y(x, w) + \\epsilon$\n",
    "\n",
    "Thus, $\\mathbb{E}[t|x, w] = y(x, w)$, $Var[t|x, w] = \\beta^{-1}$,\n",
    "\n",
    "> $p(t|x, w) = \\mathcal{N}(t|y(x, w), \\beta^{-1})$\n",
    "\n",
    "For $N$ independent identically distributed samples $\\{X_1, X_2, ..., X_N\\}$, the likelihood function is,\n",
    "\n",
    "> $L(X, w) = \\prod_{i=1}^N p(t_i|X_i, w)$\n",
    "\n",
    "Compute the log-likelihood, (to avoid the underflow problem), \n",
    "\n",
    "> $l(X, w) = \\log L(X, w) = \\sum_{i=1}^N \\log p(t_i|X_i, w)$\n",
    "\n",
    "The log-likelihood function $l(X, w)$ is <b>concave</b> of $w_j$, \n",
    "thus compute the derivate of $l$ with respect to $w_j$, let it be zero, \n",
    "we will obtain the optimal value of parameters $w$."
   ]
  },
  {
   "cell_type": "markdown",
   "metadata": {},
   "source": [
    "# 1. Bias Variance Trade-off\n",
    "\n",
    "Compute the Expected Loss of the loss function $J(y, t)$, use the squared loss as example, \n",
    "\n",
    "> $\\mathbb{E}[J(y, t)] = \\int\\int \\{y(x) - t\\}^2p(x, t) dxdt$\n",
    "\n",
    "To obtain the optimal value of $y(x)$ so as to minimize $\\mathbb{E}[J(y, t)]$, compute the gradient of $\\mathbb{E}[J(y, t)]$ w.r.t $y(x)$, \n",
    "\n",
    "> $\\frac{\\partial{\\mathbb{E}[J(y, t)]}}{\\partial{y(x)}}\n",
    "= \\int\\int 2\\{y(x) - t\\}p(x, t)dxdt = 0$"
   ]
  },
  {
   "cell_type": "markdown",
   "metadata": {},
   "source": []
  },
  {
   "cell_type": "code",
   "execution_count": null,
   "metadata": {
    "collapsed": true
   },
   "outputs": [],
   "source": []
  }
 ],
 "metadata": {
  "kernelspec": {
   "display_name": "Python 3",
   "language": "python",
   "name": "python3"
  },
  "language_info": {
   "codemirror_mode": {
    "name": "ipython",
    "version": 3
   },
   "file_extension": ".py",
   "mimetype": "text/x-python",
   "name": "python",
   "nbconvert_exporter": "python",
   "pygments_lexer": "ipython3",
   "version": "3.6.2"
  }
 },
 "nbformat": 4,
 "nbformat_minor": 2
}
