{
 "cells": [
  {
   "cell_type": "markdown",
   "metadata": {},
   "source": [
    "<h1>Linear Models for Regression</h1>\n",
    "\n",
    "Reference:\n",
    "\n",
    "[1] PRML, Chapter 3.\n",
    "\n",
    "# 0. Linear Basis Function Models\n",
    "\n",
    "## Linear Regression\n",
    "> $y(x, w) = w_0 + w_1 \\phi(x_1) + ... w_M \\phi(x_M)$\n",
    "\n",
    "> $= \\sum_{i=1}^M w_i \\phi(x_i) = W^{T}\\phi(x)$\n",
    "\n",
    "## Maximum Likelihood\n",
    "\n",
    "Assume the target variable $t$ is the summation of <b>deteministic</b> function $y(x, w)$ and gaussian noise $\\epsilon \\sim \\mathcal{N}(0, \\beta^{-1})$.\n",
    "\n",
    "> $t = y(x, w) + \\epsilon$\n",
    "\n",
    "Thus, $\\mathbb{E}[t|x, w] = y(x, w)$, $Var[t|x, w] = \\beta^{-1}$,\n",
    "\n",
    "> $p(t|x, w) = \\mathcal{N}(t|y(x, w), \\beta^{-1})$\n",
    "\n",
    "For $N$ independent identically distributed samples $\\{X_1, X_2, ..., X_N\\}$, the likelihood function is,\n",
    "\n",
    "> $L(X, w) = \\prod_{i=1}^N p(t_i|X_i, w)$\n",
    "\n",
    "Compute the log-likelihood, (to avoid the underflow problem), \n",
    "\n",
    "> $l(X, w) = \\log L(X, w) = \\sum_{i=1}^N \\log p(t_i|X_i, w)$\n",
    "\n",
    "The log-likelihood function $l(X, w)$ is <b>concave</b> of $w_j$, \n",
    "thus compute the derivate of $l$ with respect to $w_j$, let it be zero, \n",
    "we will obtain the optimal value of parameters $w$."
   ]
  },
  {
   "cell_type": "markdown",
   "metadata": {},
   "source": [
    "# 1. Bias Variance Trade-off\n",
    "\n",
    "Compute the Expected Loss of the loss function $J(y, t)$, use the squared loss as example, \n",
    "\n",
    "> $\\mathbb{E}[J(y, t)] = \\int\\int \\{y(x) - t\\}^2p(x, t) dxdt$\n",
    "\n",
    "To obtain the optimal value of $y(x)$ so as to minimize $\\mathbb{E}[J(y, t)]$, compute the gradient of $\\mathbb{E}[J(y, t)]$ w.r.t $y(x)$, \n",
    "\n",
    "> $\\frac{\\partial{\\mathbb{E}[J(y, t)]}}{\\partial{y(x)}}\n",
    "= \\int\\int 2\\{y(x) - t\\}p(x, t)dxdt = 0$"
   ]
  },
  {
   "cell_type": "markdown",
   "metadata": {},
   "source": [
    "> $\\mathbb{E}[(y - \\hat{y})^2] = \\mathbb{E}[y^2 + {\\hat{y}}^2 - 2y\\hat{y}]$\n",
    "\n",
    "> $= \\mathbb{E}[y^2] + \\mathbb{E}[{\\hat{y}}^2] - 2\\mathbb{E}[y]\\mathbb{E}[\\hat{y}]$\n",
    "\n",
    "> $= Var[y] + \\mathbb{E}^2[y] + Var[\\hat{y}] + \\mathbb{E}^2[\\hat{y}] - 2 y \\mathbb{E}[\\hat{y}]$"
   ]
  },
  {
   "cell_type": "markdown",
   "metadata": {},
   "source": [
    "> $= Var[y] + Var[\\hat{y}] + \\{\\mathbb{E}^2[\\hat{y}] - 2 y \\mathbb{E}[\\hat{y}]+ \\mathbb{E}^2[y] \\}$\n",
    "\n",
    "> $= \n",
    "\\underbrace{Var[y]}_{noise} + \n",
    "\\underbrace{Var[\\hat{y}]}_{variance} + \n",
    "\\underbrace{\\{ y - \\mathbb{E}[\\hat{y}] \\}^2}_{bias^2}$\n",
    "\n"
   ]
  },
  {
   "cell_type": "markdown",
   "metadata": {},
   "source": [
    "# 2. Bayesian Linear Regression\n",
    "\n",
    "The likelihood of a linear regression problem is, \n",
    "\n",
    "> $L(X, w) = \\prod_{i=1}^N p(t_i|X_i, w)$\n",
    "\n",
    "where $p(t|x, w) = \\mathcal{N}(t|y(x, w), \\beta^{-1})$, \n",
    "\n",
    "thus the conjugate prior of the likelihood is also a Gaussian distribution.\n",
    "\n",
    "> $p(w) = \\mathcal{N}(w|\\mu_0, S_0)$\n",
    "\n",
    "The posterior distribution of $w$ is, \n",
    "\n",
    "> $p(w|t) = \\mathcal{N}(w|\\mu_1, S_1)$\n",
    "\n",
    "> $\\mu_1 = S_1(S_0^{-1}m_0 + \\beta \\phi^T t)$\n",
    "\n",
    "> $S_1^{-1} = S_0^{-1} + \\beta \\phi^T \\phi$\n",
    "\n",
    "The predictive result will be, \n",
    "\n",
    "> $p(t^{test}|t^{train}, w) = \\int p(t^{test}|x, w)p(w|t^{train})dw$\n",
    "\n",
    "Almost everything about Gaussian Distribution is analytical."
   ]
  },
  {
   "cell_type": "code",
   "execution_count": null,
   "metadata": {
    "collapsed": true
   },
   "outputs": [],
   "source": []
  }
 ],
 "metadata": {
  "kernelspec": {
   "display_name": "Python 3",
   "language": "python",
   "name": "python3"
  },
  "language_info": {
   "codemirror_mode": {
    "name": "ipython",
    "version": 3
   },
   "file_extension": ".py",
   "mimetype": "text/x-python",
   "name": "python",
   "nbconvert_exporter": "python",
   "pygments_lexer": "ipython3",
   "version": "3.6.2"
  }
 },
 "nbformat": 4,
 "nbformat_minor": 2
}
