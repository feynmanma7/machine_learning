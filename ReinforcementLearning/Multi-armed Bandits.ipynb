{
 "cells": [
  {
   "cell_type": "markdown",
   "metadata": {},
   "source": [
    "<h1>Multi-armed Bandits</h1>\n",
    "\n",
    "# 0. Elements of Reinforcement Learning\n",
    "\n",
    "+ Policy\n",
    "\n",
    "+ Reward Signal\n",
    "\n",
    "+ Value Function\n",
    "\n",
    "+ Model\n",
    "\n",
    "# 1. $k$-armed Bandits\n",
    "\n",
    "The value of action $a$, which is the predicted expectation of rewards, is defined as, \n",
    "\n",
    "> $q_*(a) = \\mathbb{E}[R_t|A_t = a]$\n",
    "\n",
    "$A_t$ is the action selected on time step $t$, and $R_t$ is the corresponding reward."
   ]
  },
  {
   "cell_type": "code",
   "execution_count": null,
   "metadata": {
    "collapsed": true
   },
   "outputs": [],
   "source": []
  }
 ],
 "metadata": {
  "kernelspec": {
   "display_name": "Python 3",
   "language": "python",
   "name": "python3"
  },
  "language_info": {
   "codemirror_mode": {
    "name": "ipython",
    "version": 3
   },
   "file_extension": ".py",
   "mimetype": "text/x-python",
   "name": "python",
   "nbconvert_exporter": "python",
   "pygments_lexer": "ipython3",
   "version": "3.6.3"
  }
 },
 "nbformat": 4,
 "nbformat_minor": 2
}
