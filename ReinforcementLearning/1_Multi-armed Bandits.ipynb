{
 "cells": [
  {
   "cell_type": "markdown",
   "metadata": {},
   "source": [
    "<h1>Multi-armed Bandits</h1>\n",
    "\n",
    "Preference:\n",
    "\n",
    "Reinforemcent Learning: An Introduction.\n",
    "\n",
    "# 0. Elements of Reinforcement Learning\n",
    "\n",
    "+ Policy\n",
    "\n",
    "+ Reward Signal\n",
    "\n",
    "+ Value Function\n",
    "\n",
    "+ Model\n",
    "\n",
    "# 1. $k$-armed Bandits\n",
    "\n",
    "The value of action $a$, which is the predicted expectation of rewards, is defined as, \n",
    "\n",
    "> $q_*(a) = \\mathbb{E}[R_t|A_t = a]$\n",
    "\n",
    "$A_t$ is the action selected on time step $t$, and $R_t$ is the corresponding reward."
   ]
  },
  {
   "cell_type": "code",
   "execution_count": 18,
   "metadata": {
    "collapsed": true
   },
   "outputs": [],
   "source": [
    "# e-greedy\n",
    "import numpy as np\n",
    "from matplotlib import pyplot as plt\n",
    "\n",
    "np.random.seed(1)\n",
    "\n",
    "def normal_fn(mu, std):\n",
    "    while True:\n",
    "        yield np.random.normal(mu, std)\n",
    "\n",
    "        \n",
    "def exclude_sample(exclude, num=10):\n",
    "    low = 0\n",
    "    high = num - 1\n",
    "    rand_n = np.random.randint(low, high)\n",
    "    \n",
    "    if rand_n < exclude:\n",
    "        return rand_n\n",
    "    else:\n",
    "        return exclude + 1\n",
    "        \n",
    "        \n",
    "def bandit_experience(reward_fns, n_step=2000, n_arm=10, epsilon=0.01):\n",
    "\n",
    "    \"\"\"\n",
    "    Q-value\n",
    "        Expected value of each action, \n",
    "        to be learned or counted as average of samples.\n",
    "    \"\"\"\n",
    "    Q_reward = np.zeros(n_arm)\n",
    "    Q_num = np.zeros(n_arm)\n",
    "\n",
    "    total_reward = 0.\n",
    "    avg_rewards = []\n",
    "\n",
    "    for step in range(n_step):\n",
    "        # Choose current action, based on the Q_reward\n",
    "        action = np.argmax(Q_reward)\n",
    "\n",
    "        ## e-greedy\n",
    "        _ = np.random.random()\n",
    "\n",
    "        if _ < epsilon:\n",
    "            #action = exclude_sample(action, num=n_arm)\n",
    "            action = np.random.randint(0, n_arm)\n",
    "\n",
    "        # Get reward of the action, update the respectively Q_value\n",
    "        reward = next(reward_fns[action])\n",
    "\n",
    "        #action_avg_reward = Q_reward[action]\n",
    "        #num = Q_num[action]\n",
    "        #Q_reward[action] = (action_avg_reward * num + reward) / (num + 1)\n",
    "        Q_num[action] += 1\n",
    "        Q_reward[action] = Q_reward[action] + (reward - Q_reward[action]) / Q_num[action]\n",
    "        \n",
    "        # avg_reward of each step \n",
    "        total_reward += reward\n",
    "        avg_reward = total_reward / (step+1)\n",
    "        avg_rewards.append(avg_reward)\n",
    "    return np.array(avg_rewards)        "
   ]
  },
  {
   "cell_type": "code",
   "execution_count": 31,
   "metadata": {
    "collapsed": true
   },
   "outputs": [],
   "source": [
    "# Run\n",
    "n_run = 1000\n",
    "n_step = 2000\n",
    "\n",
    "rewards_1 = np.zeros(n_step)\n",
    "rewards_2 = np.zeros(n_step)\n",
    "rewards_3 = np.zeros(n_step)\n",
    "rewards_4 = np.zeros(n_step)\n",
    "\n",
    "for _ in range(n_run):\n",
    "    rewards_1 += bandit_experience(reward_fns, n_step, n_arm, epsilon=0)\n",
    "    rewards_2 += bandit_experience(reward_fns, n_step, n_arm, epsilon=0.01)\n",
    "    rewards_3 += bandit_experience(reward_fns, n_step, n_arm, epsilon=0.1)\n",
    "    rewards_4 += bandit_experience(reward_fns, n_step, n_arm, epsilon=0.5)\n",
    "\n",
    "rewards_1 /= n_step\n",
    "rewards_2 /= n_step\n",
    "rewards_3 /= n_step\n",
    "rewards_4 /= n_step"
   ]
  },
  {
   "cell_type": "code",
   "execution_count": 33,
   "metadata": {},
   "outputs": [
    {
     "data": {
      "image/png": "[encoded data removed]",
      "text/plain": [
       "<matplotlib.figure.Figure at 0x112eec208>"
      ]
     },
     "metadata": {},
     "output_type": "display_data"
    }
   ],
   "source": [
    "# Plot\n",
    "x = np.linspace(1, 2000, 2000)\n",
    "\n",
    "plt.plot(x, rewards_1, 'b-', label='$\\epsilon$=0 greedy')\n",
    "plt.plot(x, rewards_2, 'r-', label='$\\epsilon$=0.01')\n",
    "plt.plot(x, rewards_3, 'g-', label='$\\epsilon$=0.1')\n",
    "plt.plot(x, rewards_4, 'y-', label='$\\epsilon$=0.5')\n",
    "plt.legend(loc='best')\n",
    "plt.xlabel('step')\n",
    "plt.ylabel('average reward')\n",
    "plt.title('$\\epsilon$-greedy, n_run=%s' % n_run)\n",
    "plt.show()"
   ]
  },
  {
   "cell_type": "markdown",
   "metadata": {},
   "source": [
    "# 2. Upper-Confidence-Bound Action Selection\n",
    "\n",
    "The $\\epsilon$-greedy algorithm is try to balance between <b>Exploitation</b> and <b>Exploration</b>. \n",
    "\n",
    "The biggest diffence of multi-armed bandits algorithms compared to greedy algorithms is the chance to <b>Explore</b>. To improve the extent of exploration of $\\epsilon$-greedy algorithm, the upper-confidence-bound action selection algorithm is proposed.\n",
    "\n",
    "> $A_t = \\arg\\max_{a}\\left[ Q_t(a) + c\\sqrt{\\frac{\\ln t}{N_t(a)}} \\right]$\n",
    "\n",
    "The UCB algorithm will encourage to <b>explore</b> action that was chosen much few in the long run."
   ]
  },
  {
   "cell_type": "code",
   "execution_count": 35,
   "metadata": {
    "collapsed": true
   },
   "outputs": [],
   "source": [
    "# Upper-Confidence-Bound\n",
    "import numpy as np\n",
    "from matplotlib import pyplot as plt\n",
    "\n",
    "np.random.seed(1)\n",
    "\n",
    "def normal_fn(mu, std):\n",
    "    while True:\n",
    "        yield np.random.normal(mu, std)\n",
    "\n",
    "        \n",
    "def exclude_sample(exclude, num=10):\n",
    "    low = 0\n",
    "    high = num - 1\n",
    "    rand_n = np.random.randint(low, high)\n",
    "    \n",
    "    if rand_n < exclude:\n",
    "        return rand_n\n",
    "    else:\n",
    "        return exclude + 1\n",
    "        \n",
    "        \n",
    "def bandit_experience(reward_fns, \n",
    "                      n_step=2000, \n",
    "                      n_arm=10, \n",
    "                      epsilon=0.01,\n",
    "                      c=2):\n",
    "\n",
    "    \"\"\"\n",
    "    Q-value\n",
    "        Expected value of each action, \n",
    "        to be learned or counted as average of samples.\n",
    "    \"\"\"\n",
    "    Q_reward = np.zeros(n_arm)\n",
    "    Q_num = np.zeros(n_arm)\n",
    "\n",
    "    total_reward = 0.\n",
    "    avg_rewards = []\n",
    "\n",
    "    for step in range(n_step):\n",
    "        # Choose current action, based on the Q_reward\n",
    "        ## UCB, N_t(a) + 1 for smoothing\n",
    "        #action = np.argmax(Q_reward)\n",
    "        action = np.argmax(Q_reward + c * \n",
    "                           np.sqrt(np.log(step+1) / \n",
    "                                  Q_num+1))\n",
    "\n",
    "        ## e-greedy\n",
    "        _ = np.random.random()\n",
    "\n",
    "        if _ < epsilon:\n",
    "            #action = exclude_sample(action, num=n_arm)\n",
    "            action = np.random.randint(0, n_arm)\n",
    "\n",
    "        # Get reward of the action, update the respectively Q_value\n",
    "        reward = next(reward_fns[action])\n",
    "\n",
    "        #action_avg_reward = Q_reward[action]\n",
    "        #num = Q_num[action]\n",
    "        #Q_reward[action] = (action_avg_reward * num + reward) / (num + 1)\n",
    "        Q_num[action] += 1\n",
    "        Q_reward[action] = Q_reward[action] + (reward - Q_reward[action]) / Q_num[action]\n",
    "        \n",
    "        # avg_reward of each step \n",
    "        total_reward += reward\n",
    "        avg_reward = total_reward / (step+1)\n",
    "        avg_rewards.append(avg_reward)\n",
    "    return np.array(avg_rewards)        "
   ]
  },
  {
   "cell_type": "code",
   "execution_count": 36,
   "metadata": {},
   "outputs": [
    {
     "name": "stderr",
     "output_type": "stream",
     "text": [
      "/Users/flyingman/anaconda3/envs/python36/lib/python3.6/site-packages/ipykernel_launcher.py:46: RuntimeWarning: invalid value encountered in true_divide\n",
      "/Users/flyingman/anaconda3/envs/python36/lib/python3.6/site-packages/ipykernel_launcher.py:46: RuntimeWarning: divide by zero encountered in true_divide\n"
     ]
    }
   ],
   "source": [
    "# Run\n",
    "n_run = 1000\n",
    "n_step = 2000\n",
    "\n",
    "ucb_rewards_1 = np.zeros(n_step)\n",
    "ucb_rewards_2 = np.zeros(n_step)\n",
    "ucb_rewards_3 = np.zeros(n_step)\n",
    "ucb_rewards_4 = np.zeros(n_step)\n",
    "\n",
    "for _ in range(n_run):\n",
    "    ucb_rewards_1 += bandit_experience(reward_fns, n_step, n_arm, epsilon=0.01, c=1)\n",
    "    ucb_rewards_2 += bandit_experience(reward_fns, n_step, n_arm, epsilon=0.1, c=1)\n",
    "    ucb_rewards_3 += bandit_experience(reward_fns, n_step, n_arm, epsilon=0.01, c=2)\n",
    "    ucb_rewards_4 += bandit_experience(reward_fns, n_step, n_arm, epsilon=0.1, c=2)\n",
    "\n",
    "ucb_rewards_1 /= n_step\n",
    "ucb_rewards_2 /= n_step\n",
    "ucb_rewards_3 /= n_step\n",
    "ucb_rewards_4 /= n_step"
   ]
  },
  {
   "cell_type": "code",
   "execution_count": 42,
   "metadata": {},
   "outputs": [
    {
     "data": {
      "image/png": "[encoded data removed]",
      "text/plain": [
       "<matplotlib.figure.Figure at 0x112fdf588>"
      ]
     },
     "metadata": {},
     "output_type": "display_data"
    }
   ],
   "source": [
    "# Plot\n",
    "x = np.linspace(1, 2000, 2000)\n",
    "\n",
    "\n",
    "plt.plot(x, ucb_rewards_3, 'g-', label='$\\epsilon$=0.01, c=2')\n",
    "plt.plot(x, ucb_rewards_4, 'y-', label='$\\epsilon$=0.1, c=2')\n",
    "\n",
    "plt.plot(x, rewards_2, 'b-', label='$\\epsilon$=0.01, c=0')\n",
    "plt.plot(x, rewards_3, 'r-', label='$\\epsilon$=0.1, c=0')\n",
    "plt.plot(x, rewards_1, 'k--', label='$\\epsilon$=0, c=0')\n",
    "\n",
    "plt.legend(loc='best')\n",
    "plt.xlabel('step')\n",
    "plt.ylabel('average reward')\n",
    "plt.title('UCB, n_run=%s' % n_run)\n",
    "plt.show()"
   ]
  },
  {
   "cell_type": "code",
   "execution_count": null,
   "metadata": {
    "collapsed": true
   },
   "outputs": [],
   "source": []
  }
 ],
 "metadata": {
  "kernelspec": {
   "display_name": "Python 3",
   "language": "python",
   "name": "python3"
  },
  "language_info": {
   "codemirror_mode": {
    "name": "ipython",
    "version": 3
   },
   "file_extension": ".py",
   "mimetype": "text/x-python",
   "name": "python",
   "nbconvert_exporter": "python",
   "pygments_lexer": "ipython3",
   "version": "3.6.2"
  }
 },
 "nbformat": 4,
 "nbformat_minor": 2
}
