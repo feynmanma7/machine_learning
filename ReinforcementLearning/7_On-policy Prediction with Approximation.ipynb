{
 "cells": [
  {
   "cell_type": "markdown",
   "metadata": {},
   "source": [
    "<h1>On-policy Prediction with Approximation</h1>\n",
    "\n",
    "Insead of using tabular ways to represent the state-value function, we use a real-valued function $\\widehat{v} (s, \\boldsymbol{w}) \\approx v_{\\pi}(s)$ with paramters $\\boldsymbol{w} \\in \\mathbb{R}^d$.\n",
    "\n",
    "+ Objective Function: Mean Squared Value Error\n",
    "\n",
    "> $\\overline{VE}(\\boldsymbol{w}) = \\sum_{s \\in \\mathcal{S}} \\mu(s)[v_{\\pi}(s) - \\widehat{v}(s, \\boldsymbol{w})]^2$\n",
    "\n",
    "\n",
    "$\\overline{VE}$ gives a rough measure of how much the approximate values differ from the true values.\n",
    "\n",
    "$\\mu(s)$ is often chosen the fraction of time spent in $s$.\n",
    "\n",
    "# 0. Gradient Monte Carlo Algorithm, output $\\widehat{v} \\approx v_{\\pi}$\n",
    "\n",
    "+ Initialize value-funtion weights $\\boldsymbol{w}$ as appropriate(e.g. $\\boldsymbol{w} = 0$)\n",
    "\n",
    "+ Repeat forever:\n",
    "\n",
    "> Generate an episode $S_0, A_0, R_1, S_1, A_1, ..., R_T, S_T$ using $\\pi$\n",
    "\n",
    "> For $t = 0, 1, ..., T - 1$\n",
    "\n",
    ">> $\\boldsymbol{w} \\leftarrow \\boldsymbol{w} + \\alpha[G_t - \\widehat{v}(S_t, \\boldsymbol{w})] \\nabla \\widehat{v}(S_t, \\boldsymbol{w}) $\n",
    "\n",
    "# 1. Semi-gradient TD(0), output $\\widehat{v} \\approx v_{\\pi}$\n",
    "\n",
    "Using bootstrapping result as the target, \n",
    "\n",
    "> $U_t = R_{t+1} + \\gamma \\widehat{v}(S_{t+1}, \\boldsymbol{w})$\n",
    "\n",
    "+ Initialize value-funtion weights $\\boldsymbol{w}$ as appropriate(e.g. $\\boldsymbol{w} = 0$)\n",
    "\n",
    "+ Repeat (for each episode): \n",
    "\n",
    "> Initialize $S$\n",
    "\n",
    "> Repeat (for each step of episode): \n",
    "\n",
    ">> Choose $A \\in \\pi(\\centerdot|S)$\n",
    "\n",
    ">> Take action $A$, observe $R, S'$\n",
    "\n",
    ">> $\\boldsymbol{w} \\leftarrow \\boldsymbol{w} + \\alpha [R + \\gamma \\widehat{v}(S', \\boldsymbol{w}) - \\widehat{v}(S, \\boldsymbol{w})] \\nabla \\widehat{v}(S, \\boldsymbol{w})$\n",
    "\n",
    ">> $S \\leftarrow S'$\n",
    "\n",
    "> Until $S'$ is terminal"
   ]
  },
  {
   "cell_type": "code",
   "execution_count": null,
   "metadata": {
    "collapsed": true
   },
   "outputs": [],
   "source": []
  }
 ],
 "metadata": {
  "kernelspec": {
   "display_name": "Python 3",
   "language": "python",
   "name": "python3"
  },
  "language_info": {
   "codemirror_mode": {
    "name": "ipython",
    "version": 3
   },
   "file_extension": ".py",
   "mimetype": "text/x-python",
   "name": "python",
   "nbconvert_exporter": "python",
   "pygments_lexer": "ipython3",
   "version": "3.6.2"
  }
 },
 "nbformat": 4,
 "nbformat_minor": 2
}
