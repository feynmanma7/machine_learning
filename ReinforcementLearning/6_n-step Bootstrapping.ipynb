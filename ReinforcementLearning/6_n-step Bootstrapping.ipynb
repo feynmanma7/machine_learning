{
 "cells": [
  {
   "cell_type": "markdown",
   "metadata": {},
   "source": [
    "<h1>n-step Bootstraping</h1>\n",
    "\n",
    "# 0. n-step TD Prediction\n",
    "\n",
    "+ Initialize $V(s)$ arbitrarily, $s \\in \\mathcal{S}$\n",
    "\n",
    "Parameters: step size $\\alpha \\in (0,1]$, a positive integer $n$\n",
    "\n",
    "All store and access operations (for $S_t$ and $R_t$) can take their index mod $n$\n",
    "\n",
    "+ Repeat (for each episode):\n",
    "\n",
    "> Initialize and store $S_0 \\ne terminal$\n",
    "\n",
    "> $T \\leftarrow \\infty$\n",
    "\n",
    "> For $t = 0, 1, 2, ...$:\n",
    "\n",
    ">> If $t < T$, then:\n",
    "\n",
    ">>> Take an action according to $\\pi(-|S_t)$\n",
    "\n",
    ">>> Observe and store the next reward as $R_{t+1}$ and the next state  as $S_{t+1}$\n",
    "\n",
    ">>> If $S_{t+1}$ is terminal, then $T \\leftarrow t+1$\n",
    "\n",
    ">> $\\tau \\leftarrow t - n + 1$\n",
    "\n",
    ">> If $\\tau \\ge 0$:\n",
    "\n",
    ">>> $G \\leftarrow \\sum_{i=\\tau+1}^{\\min(\\tau+n, T)}\\gamma^{i-\\tau-1} R_i$\n",
    "\n",
    ">>> If $\\tau + n < T$, then $G \\leftarrow G + \\gamma^n V(S_{\\tau + n})$\n",
    "\n",
    ">>> $V(S_{\\tau}) \\leftarrow V(S_{\\tau}) + \\alpha[G - V(S_{\\tau})]$\n",
    "\n",
    ">> Until $\\tau = T - 1$\n"
   ]
  },
  {
   "cell_type": "code",
   "execution_count": null,
   "metadata": {
    "collapsed": true
   },
   "outputs": [],
   "source": []
  }
 ],
 "metadata": {
  "kernelspec": {
   "display_name": "Python 3",
   "language": "python",
   "name": "python3"
  },
  "language_info": {
   "codemirror_mode": {
    "name": "ipython",
    "version": 3
   },
   "file_extension": ".py",
   "mimetype": "text/x-python",
   "name": "python",
   "nbconvert_exporter": "python",
   "pygments_lexer": "ipython3",
   "version": "3.6.2"
  }
 },
 "nbformat": 4,
 "nbformat_minor": 2
}
