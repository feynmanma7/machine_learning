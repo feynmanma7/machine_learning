{
 "cells": [
  {
   "cell_type": "markdown",
   "metadata": {},
   "source": [
    "<h1>Monte Carlo Methods</h1>\n",
    "\n",
    "# 0. Monte Carlo Control, output $\\pi \\approx \\pi_{*}$\n",
    "\n",
    "## Card Game\n",
    "\n",
    "### Environment\n",
    "\n",
    "+ Two Players: Me and Dealer. \n",
    "\n",
    "+ Task: Get Cards from an infinite deck. The player could stick (stop) or hit (ask for another card). If the accumulative sum of the value of cards explodes 21, the player goes bust.\n",
    "\n",
    "+ Reward: The Winner gets +1, the Loser gets -1, 0 for each when it draws.\n",
    "\n",
    "### Policy of The Dealer\n",
    "\n",
    "If the accumlative sum is equal or greater than 17, then sticks, otherwise hits.\n",
    "\n",
    "### Policy of Me\n",
    "\n",
    "If the accumlative sum is equal or greater than 20, then sticks, otherwise hits.\n",
    "\n",
    "### State\n",
    "\n",
    "+ My current sum 12~21\n",
    "\n",
    "### Action\n",
    "\n",
    "Stick or Hit\n"
   ]
  },
  {
   "cell_type": "markdown",
   "metadata": {},
   "source": [
    "### Marte Carlo ES (Exploing Starts), output $\\pi \\approx \\pi_{*}$\n",
    "\n",
    "+ Initialize, $\\forall s \\in \\mathcal{S}, a \\in \\mathcal{A}$\n",
    "\n",
    "> $Q(s, a) \\leftarrow$ arbitrary\n",
    "\n",
    "> $\\pi(s) \\leftarrow$ arbitrary\n",
    "\n",
    "> $Returns(s, a) \\leftarrow$ empty list\n",
    "\n",
    "+ Repeat forever:\n",
    "\n",
    "> Choose $S_0 \\in \\mathcal{S}$ and $A_0 \\in \\mathcal{A}(S_0)$ s.t. all pairs have probability $> 0$\n",
    "\n",
    "> Generate an episode starting from $S_0, A_0$, following $\\pi$\n",
    "\n",
    "> For each pair $<s, a>$ appearing in the episode: \n",
    "\n",
    ">> $G \\leftarrow$ the returns that follows the first occurance of $s, a$\n",
    "\n",
    ">> Append $G$ to $Returns(s, a)$\n",
    "\n",
    ">> $Q(s, a) \\leftarrow$ average($Returns(s, a)$)\n",
    "\n",
    "> For each $s$ in the episode: \n",
    "\n",
    ">> $\\pi(s) \\leftarrow \\arg\\max_{a}Q(s, a)$"
   ]
  },
  {
   "cell_type": "code",
   "execution_count": 1,
   "metadata": {
    "collapsed": true
   },
   "outputs": [],
   "source": [
    "# Monte Carlo Exploring Start\n",
    "import numpy as np\n",
    "\n",
    "n_s = 10 # me: 12~21 (Total: 10)\n",
    "n_a = 2 # 0: stick, 1: hit\n",
    "\n",
    "# Initialize\n",
    "Q = np.zeros((n_s, n_a))\n",
    "pi = np.zeros(n_s)\n",
    "\n",
    "states = np.array(range(12, 22))\n",
    "actions = np.array(range(n_a))\n",
    "\n",
    "cards = np.array(range(1, 53))"
   ]
  },
  {
   "cell_type": "code",
   "execution_count": 2,
   "metadata": {
    "collapsed": true
   },
   "outputs": [],
   "source": [
    "def get_card(cards):\n",
    "    card = np.random.choice(cards) % 13\n",
    "    if card > 10 or card == 0:\n",
    "        card = 10\n",
    "        \n",
    "    return card"
   ]
  },
  {
   "cell_type": "code",
   "execution_count": 3,
   "metadata": {
    "collapsed": true
   },
   "outputs": [],
   "source": [
    "def dealer_action(cards):\n",
    "    \n",
    "    stop = False\n",
    "    \n",
    "    dealer_sum = 0\n",
    "    while stop == False:\n",
    "        dealer_sum += get_card(cards)\n",
    "        \n",
    "        if dealer_sum >= 17:\n",
    "            stop = True\n",
    "            \n",
    "    if dealer_sum > 21:\n",
    "        dealer_sum = 0\n",
    "    \n",
    "    return dealer_sum"
   ]
  },
  {
   "cell_type": "code",
   "execution_count": 10,
   "metadata": {
    "collapsed": true
   },
   "outputs": [],
   "source": [
    "def me_action(cards):\n",
    "    \n",
    "    episode = {}\n",
    "    \n",
    "    stop = False\n",
    "    \n",
    "    me_sum = 0\n",
    "    while stop == False:\n",
    "        me_sum += get_card(cards)\n",
    "        s = me_sum\n",
    "        a = 1 # 0: stick, 1: hit\n",
    "        \n",
    "        if me_sum >= 18:\n",
    "            stop = True\n",
    "            a = 0\n",
    "            \n",
    "        episode[s-12] = a\n",
    "    \n",
    "    if me_sum > 21:\n",
    "        me_sum = 0\n",
    "\n",
    "    return me_sum, episode"
   ]
  },
  {
   "cell_type": "code",
   "execution_count": 11,
   "metadata": {
    "collapsed": true
   },
   "outputs": [],
   "source": [
    "def one_episode(states, actions, cards):\n",
    "\n",
    "    # Me and Dealer Take actions indepently\n",
    "    \n",
    "    # Dealer Action\n",
    "    dealer_sum = dealer_action(cards)\n",
    "    \n",
    "    # Me Action\n",
    "    me_sum, episode = me_action(cards)\n",
    "    \n",
    "    # Compute Reward\n",
    "    if me_sum > dealer_sum:\n",
    "        r = 1\n",
    "    elif me_sum < dealer_sum:\n",
    "        r = -1\n",
    "    else:\n",
    "        r = 0\n",
    "\n",
    "    Returns = np.zeros((n_s, n_a))\n",
    "    Counts = np.zeros((n_s, n_a))\n",
    "    \n",
    "    for s in range(10):\n",
    "        if s in episode:\n",
    "            a = episode[s]\n",
    "            Returns[s][a] += r\n",
    "            Counts[s][a] += 1\n",
    "        \n",
    "    return Returns, Counts"
   ]
  },
  {
   "cell_type": "code",
   "execution_count": 12,
   "metadata": {},
   "outputs": [],
   "source": [
    "n_episode = 10000\n",
    "\n",
    "Q = np.zeros((n_s, n_a))\n",
    "total_counts = np.zeros((n_s, n_a))\n",
    "\n",
    "for _ in range(n_episode):\n",
    "    Returns, Counts = one_episode(states, actions, cards)\n",
    "    Q += Returns\n",
    "    total_counts += Counts\n",
    "\n",
    "for s in range(n_s):\n",
    "    for a in range(n_a):\n",
    "        if total_counts[s][a] > 0:\n",
    "            Q[s][a] /= total_counts[s][a]\n",
    "            \n",
    "for s in range(n_s):\n",
    "    pi[s] = np.argmax(Q[s])"
   ]
  },
  {
   "cell_type": "code",
   "execution_count": 13,
   "metadata": {},
   "outputs": [
    {
     "data": {
      "text/plain": [
       "array([[ 0.        , -0.16746032],\n",
       "       [ 0.        , -0.22720126],\n",
       "       [ 0.        , -0.25681818],\n",
       "       [ 0.        , -0.24518888],\n",
       "       [ 0.        , -0.31121751],\n",
       "       [ 0.        , -0.34687299],\n",
       "       [ 0.08053691,  0.        ],\n",
       "       [ 0.30191354,  0.        ],\n",
       "       [ 0.63743316,  0.        ],\n",
       "       [ 0.92460317,  0.        ]])"
      ]
     },
     "execution_count": 13,
     "metadata": {},
     "output_type": "execute_result"
    }
   ],
   "source": [
    "Q"
   ]
  },
  {
   "cell_type": "code",
   "execution_count": 14,
   "metadata": {},
   "outputs": [
    {
     "data": {
      "text/plain": [
       "array([0., 0., 0., 0., 0., 0., 0., 0., 0., 0.])"
      ]
     },
     "execution_count": 14,
     "metadata": {},
     "output_type": "execute_result"
    }
   ],
   "source": [
    "pi"
   ]
  },
  {
   "cell_type": "code",
   "execution_count": 15,
   "metadata": {},
   "outputs": [
    {
     "data": {
      "text/plain": [
       "array([[   0., 1260.],\n",
       "       [   0., 1272.],\n",
       "       [   0., 1320.],\n",
       "       [   0., 1403.],\n",
       "       [   0., 1462.],\n",
       "       [   0., 1551.],\n",
       "       [1490.,    0.],\n",
       "       [1411.,    0.],\n",
       "       [1870.,    0.],\n",
       "       [1008.,    0.]])"
      ]
     },
     "execution_count": 15,
     "metadata": {},
     "output_type": "execute_result"
    }
   ],
   "source": [
    "total_counts"
   ]
  },
  {
   "cell_type": "code",
   "execution_count": null,
   "metadata": {
    "collapsed": true
   },
   "outputs": [],
   "source": []
  }
 ],
 "metadata": {
  "kernelspec": {
   "display_name": "Python 3",
   "language": "python",
   "name": "python3"
  },
  "language_info": {
   "codemirror_mode": {
    "name": "ipython",
    "version": 3
   },
   "file_extension": ".py",
   "mimetype": "text/x-python",
   "name": "python",
   "nbconvert_exporter": "python",
   "pygments_lexer": "ipython3",
   "version": "3.6.2"
  }
 },
 "nbformat": 4,
 "nbformat_minor": 2
}
