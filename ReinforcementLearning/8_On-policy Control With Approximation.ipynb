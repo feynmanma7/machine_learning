{
 "cells": [
  {
   "cell_type": "markdown",
   "metadata": {},
   "source": [
    "<h1>On-policy Control With Approximation</h1>\n",
    "\n",
    "# 0. Episodic Semi-gradient Sarsa, output $\\widehat{q} \\approx q_{*}$\n",
    "\n",
    "+ Input a differentiable function $\\widehat{q}: \\mathcal{S} \\times \\mathcal{A} \\times \\mathbb{R}^d \\rightarrow \\mathbb{R}$\n",
    "\n",
    "+ Initialize value-function weights $\\boldsymbol{w} \\in \\mathbb{R}^d$ arbitrarily (e.g. $\\boldsymbol{w} = 0$)\n",
    "\n",
    "+ Repeat (for each episode)\n",
    "\n",
    "> $S, A \\leftarrow$ initial state and action of episode (e.g. $\\epsilon-$greedy)\n",
    "\n",
    "> Repeat (for each step of episode)\n",
    "\n",
    ">> Take action $A$, observe $R, S'$\n",
    "\n",
    ">> If $S'$ is terminal:\n",
    "\n",
    ">>> $\\boldsymbol{w} \\leftarrow \\boldsymbol{w} + \\alpha[R - \\widehat{q}(S, A, \\boldsymbol{w})] \\nabla \\widehat{q}(S, A, \\boldsymbol{w})$\n",
    "\n",
    ">>> Go to next episode\n",
    "\n",
    ">> Choose $A'$ as a function of $\\widehat{q}(S', \\centerdot, \\boldsymbol{w})$, e.g. $\\epsilon-$greedy\n",
    "\n",
    ">> $\\boldsymbol{w} \\leftarrow \\boldsymbol{w} + \\alpha[R + \\gamma \\widehat{q}(S', A', \\boldsymbol{w}) - \\widehat{q}(S, A, \\boldsymbol{w})] \\nabla \\widehat{q}(S, A, \\boldsymbol{w})$\n",
    "\n",
    ">> $S \\leftarrow S'$\n",
    "\n",
    ">> $A \\leftarrow A'$"
   ]
  },
  {
   "cell_type": "code",
   "execution_count": null,
   "metadata": {
    "collapsed": true
   },
   "outputs": [],
   "source": []
  }
 ],
 "metadata": {
  "kernelspec": {
   "display_name": "Python 3",
   "language": "python",
   "name": "python3"
  },
  "language_info": {
   "codemirror_mode": {
    "name": "ipython",
    "version": 3
   },
   "file_extension": ".py",
   "mimetype": "text/x-python",
   "name": "python",
   "nbconvert_exporter": "python",
   "pygments_lexer": "ipython3",
   "version": "3.6.2"
  }
 },
 "nbformat": 4,
 "nbformat_minor": 2
}
