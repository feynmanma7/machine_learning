{
 "cells": [
  {
   "cell_type": "markdown",
   "metadata": {},
   "source": [
    "<h1>Logistic Regression and Optimization Methods</h1>\n",
    "\n",
    "# 0. Taylor Expansion, the Core of Optimization\n",
    "\n",
    "#  Line Search Method\n",
    "\n",
    "> $x_{k+1} = x_k + \\alpha_k p_k$\n",
    "\n",
    "$\\alpha_k$ is the step size, $p_k$ is the moving direction.\n",
    "\n",
    "The line search method finds the optimal step size, \n",
    "\n",
    "> $\\alpha_k^* = \\arg\\min_{\\alpha_k} f(x_k + \\alpha_k p_k)$\n",
    "\n",
    "# Trust-Region Method\n",
    "\n",
    "Select an iterated model $m_k$, \n",
    "\n",
    "> $m_k = f_k + g_k^T p + \\frac{1}{2} p^T B_k p$\n",
    "\n",
    "where $B_k$ is the approximation of the Hessian matrix.\n",
    "\n",
    "The Trust-Region method finds a model and the trust-region radius, \n",
    "\n",
    "> $\\min_{p \\in \\mathbb{R}^n} m_k(p) = f_k + g_k^T p + \\frac{1}{2} p^T B_k p$\n",
    "\n",
    "> $s.t. ||p|| \\leq \\Delta_k$\n",
    "\n",
    "Compute the ratio of <b>actual reduction</b> and <b>predicted reduction</b>, \n",
    "\n",
    "> $\\rho_k = \\frac{f(x_k) - f(x_k + p_k)}{m_k(0) - m_k(p_k)}$\n",
    "\n",
    "If $\\rho$ is too small, current model $m_k$ is not a local approximation of the original function, the radius $\\Delta_k$ must be shrinked.\n",
    "\n",
    "Conversly, if $\\rho$ is large or perfectly nearby 1, which means current model is a good approximation, the radius can be keeped or enlarged."
   ]
  },
  {
   "cell_type": "code",
   "execution_count": null,
   "metadata": {
    "collapsed": true
   },
   "outputs": [],
   "source": []
  }
 ],
 "metadata": {
  "kernelspec": {
   "display_name": "Python 3",
   "language": "python",
   "name": "python3"
  },
  "language_info": {
   "codemirror_mode": {
    "name": "ipython",
    "version": 3
   },
   "file_extension": ".py",
   "mimetype": "text/x-python",
   "name": "python",
   "nbconvert_exporter": "python",
   "pygments_lexer": "ipython3",
   "version": "3.6.3"
  }
 },
 "nbformat": 4,
 "nbformat_minor": 2
}
